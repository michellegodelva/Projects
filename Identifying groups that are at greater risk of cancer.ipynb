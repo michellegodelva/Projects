{
 "cells": [
  {
   "cell_type": "code",
   "execution_count": 1,
   "metadata": {},
   "outputs": [
    {
     "ename": "ModuleNotFoundError",
     "evalue": "No module named 'datadotworld'",
     "output_type": "error",
     "traceback": [
      "\u001b[1;31m---------------------------------------------------------------------------\u001b[0m",
      "\u001b[1;31mModuleNotFoundError\u001b[0m                       Traceback (most recent call last)",
      "\u001b[1;32m<ipython-input-1-04c560fd1c13>\u001b[0m in \u001b[0;36m<module>\u001b[1;34m\u001b[0m\n\u001b[0;32m     13\u001b[0m \u001b[1;33m\u001b[0m\u001b[0m\n\u001b[0;32m     14\u001b[0m \u001b[1;31m# datadotworld SDK\u001b[0m\u001b[1;33m\u001b[0m\u001b[1;33m\u001b[0m\u001b[1;33m\u001b[0m\u001b[0m\n\u001b[1;32m---> 15\u001b[1;33m \u001b[1;32mimport\u001b[0m \u001b[0mdatadotworld\u001b[0m \u001b[1;32mas\u001b[0m \u001b[0mddw\u001b[0m\u001b[1;33m\u001b[0m\u001b[1;33m\u001b[0m\u001b[0m\n\u001b[0m\u001b[0;32m     16\u001b[0m \u001b[0mget_ipython\u001b[0m\u001b[1;33m(\u001b[0m\u001b[1;33m)\u001b[0m\u001b[1;33m.\u001b[0m\u001b[0mrun_line_magic\u001b[0m\u001b[1;33m(\u001b[0m\u001b[1;34m''\u001b[0m\u001b[1;33m,\u001b[0m \u001b[1;34m'load_ext watermark'\u001b[0m\u001b[1;33m)\u001b[0m\u001b[1;33m\u001b[0m\u001b[1;33m\u001b[0m\u001b[0m\n\u001b[0;32m     17\u001b[0m \u001b[1;33m\u001b[0m\u001b[0m\n",
      "\u001b[1;31mModuleNotFoundError\u001b[0m: No module named 'datadotworld'"
     ]
    }
   ],
   "source": [
    "# data wrangling tools\n",
    "import pandas as pd\n",
    "import numpy as np\n",
    "\n",
    "# visualization\n",
    "import matplotlib.pyplot as plt\n",
    "%matplotlib inline\n",
    "import seaborn as sns\n",
    "\n",
    "# statistical analysis\n",
    "import statsmodels.api as sm\n",
    "from statsmodels.stats.outliers_influence import variance_inflation_factor\n",
    "\n",
    "# datadotworld SDK\n",
    "import datadotworld as ddw\n",
    "% load_ext watermark\n",
    "\n",
    "import time"
   ]
  },
  {
   "cell_type": "code",
   "execution_count": null,
   "metadata": {},
   "outputs": [],
   "source": [
    "% watermark -v -p pandas,numpy,matplotlib,datadotworld"
   ]
  },
  {
   "cell_type": "markdown",
   "metadata": {},
   "source": [
    "# 1. Acquire and Prepare Data    \n",
    "### Cancer Incidence & Mortality Data\n",
    "Cancer mortality and incidence data can be found at cancer.gov"
   ]
  },
  {
   "cell_type": "code",
   "execution_count": null,
   "metadata": {},
   "outputs": [],
   "source": [
    "# retrieve the cancer data from data.world\n",
    "mortdf = ddw.query('nrippner/cancer-analysis-hackathon-challenge',\n",
    "                  'SELECT * FROM `death .csv/death `').dataframe\n",
    "\n",
    "incddf = ddw.query('nrippner/cancer-analysis-hackathon-challenge',\n",
    "                        'SELECT * FROM `incd.csv/incd`').dataframe\n",
    "\n",
    "mortdf = mortdf[mortdf.FIPS.notnull()]\n",
    "incddf = incddf[incddf.FIPS.notnull()]\n",
    "\n",
    "mortdf['FIPS'] = mortdf.FIPS.apply(lambda x: str(int(x)))\\\n",
    "                            .astype(np.object_)\\\n",
    "                            .str.pad(5, 'left', '0')\n",
    "\n",
    "incddf['FIPS'] = incddf.FIPS.apply(lambda x: str(int(x)))\\\n",
    "                            .astype(np.object_)\\\n",
    "                            .str.pad(5, 'left', '0')\n",
    "\n",
    "incddf.drop(incddf.columns[[0,3,4,7,8,9]].values, axis=1, inplace=True)\n",
    "mortdf.drop(mortdf.columns[[0,2,4,5,7,8,9,10]], axis=1, inplace=True)\n",
    "\n",
    "incddf.rename(columns={incddf.columns[1]:'Incidence_Rate',\n",
    "                       incddf.columns[2]:'Avg_Ann_Incidence'}, inplace=True)\n",
    "mortdf.rename(columns={mortdf.columns[1]:'Mortality_Rate',\n",
    "                       mortdf.columns[2]:'Avg_Ann_Deaths'}, inplace=True)"
   ]
  },
  {
   "cell_type": "markdown",
   "metadata": {
    "collapsed": true
   },
   "source": [
    "#### A. Poverty Data"
   ]
  },
  {
   "cell_type": "markdown",
   "metadata": {
    "collapsed": true
   },
   "source": [
    "B17001_002\n",
    "POVERTY STATUS IN THE PAST 12 MONTHS BY SEX BY AGE for Population For Whom Poverty Status Is Determined% Income in the past 12 months below poverty level    \n",
    "B17001_003\n",
    "POVERTY STATUS IN THE PAST 12 MONTHS BY SEX BY AGE for Population For Whom Poverty Status Is Determined% Income in the past 12 months below poverty level:% Male    \n",
    "B17001_017\n",
    "POVERTY STATUS IN THE PAST 12 MONTHS BY SEX BY AGE for Population For Whom Poverty Status Is Determined% Income in the past 12 months below poverty level:% Female"
   ]
  },
  {
   "cell_type": "code",
   "execution_count": null,
   "metadata": {},
   "outputs": [],
   "source": [
    "# Retrieve a list of table names (by state)\n",
    "pov = ddw.load_dataset('uscensusbureau/acs-2015-5-e-poverty')\n",
    "\n",
    "tables = []\n",
    "for i in pov.tables:\n",
    "    if len(i) == 2:\n",
    "        tables.append(i)\n",
    "\n",
    "# remove Puerto Rico\n",
    "tables.remove('pr')"
   ]
  },
  {
   "cell_type": "code",
   "execution_count": null,
   "metadata": {
    "scrolled": true
   },
   "outputs": [],
   "source": [
    "print(len(tables))\n",
    "np.array(tables)"
   ]
  },
  {
   "cell_type": "code",
   "execution_count": null,
   "metadata": {},
   "outputs": [],
   "source": [
    "# Retrieve the Census poverty data from data.world\n",
    "start = time.time()\n",
    "\n",
    "# a string - the poverty columns we want from the Census ACS \n",
    "cols = '`State`, `StateFIPS`, `CountyFIPS`, `AreaName`, `B17001_002`, `B17001_003`,'\\\n",
    "       '`B17001_017`'\n",
    "\n",
    "# call the data for each state and concatenate\n",
    "for i, state in enumerate(tables):\n",
    "    if i == 0:\n",
    "        povdf = ddw.query('uscensusbureau/acs-2015-5-e-poverty',\n",
    "                  '''SELECT %s FROM `AK`\n",
    "                     WHERE SummaryLevel=50''' % cols).dataframe \n",
    "    else:\n",
    "        df = ddw.query('uscensusbureau/acs-2015-5-e-poverty',\n",
    "                       '''SELECT %s FROM `%s`\n",
    "                          WHERE SummaryLevel=50''' % (cols, state.upper())).dataframe\n",
    "    \n",
    "        povdf = pd.concat([povdf, df], ignore_index=True)\n",
    "\n",
    "end = time.time()\n",
    "\n",
    "print(end - start)\n",
    "\n",
    "\n",
    "# Add leading zeros to the state and county FIPS codes\n",
    "povdf['StateFIPS'] = povdf.StateFIPS.astype(np.object_)\\\n",
    "                                    .apply(lambda x: str(x))\\\n",
    "                                    .str.pad(2, 'left', '0')\n",
    "povdf['CountyFIPS'] = povdf.CountyFIPS.astype(np.object_)\\\n",
    "                                      .apply(lambda x: str(x))\\\n",
    "                                      .str.pad(3, 'left', '0')\n",
    "\n",
    "povdf.rename(columns={'B17001_002':'All_Poverty', 'B17001_003':'M_Poverty', 'B17001_017':'F_Poverty'},\n",
    "             inplace=True)"
   ]
  },
  {
   "cell_type": "code",
   "execution_count": null,
   "metadata": {},
   "outputs": [],
   "source": [
    "povdf.head()"
   ]
  },
  {
   "cell_type": "markdown",
   "metadata": {},
   "source": [
    "#### B. Income Data"
   ]
  },
  {
   "cell_type": "markdown",
   "metadata": {},
   "source": [
    "B19013_001\n",
    "MEDIAN HOUSEHOLD INCOME IN THE PAST 12 MONTHS (IN 2015 INFLATION-ADJUSTED DOLLARS) for Households%Median household income in the past 12 months (in 2015 Inflation-adjusted dollars)                \n",
    "B19013A_001\n",
    "MEDIAN HOUSEHOLD INCOME IN THE PAST 12 MONTHS (IN 2015 INFLATION-ADJUSTED DOLLARS) (WHITE ALONE HOUSEHOLDER) for Households With A Householder Who Is White Alone%Median household income in the past 12 months (in 2015 Inflation-adjusted dollars)       \n",
    "       \n",
    "B19013B_001\n",
    "MEDIAN HOUSEHOLD INCOME IN THE PAST 12 MONTHS (IN 2015 INFLATION-ADJUSTED DOLLARS) (BLACK OR AFRICAN AMERICAN ALONE HOUSEHOLDER) for Households With A Householder Who Is Black Or African American Alone%Median household income in the past 12 months (in 2015 Inflation-adjusted dollars)       \n",
    "       \n",
    "B19013C_001\n",
    "MEDIAN HOUSEHOLD INCOME IN THE PAST 12 MONTHS (IN 2015 INFLATION-ADJUSTED DOLLARS) (AMERICAN INDIAN AND ALASKA NATIVE ALONE HOUSEHOLDER) for Households With A Householder Who Is American Indian And Alaska Native Alone%Median household income in the past 12 months (in 2015 Inflation-adjusted dollars)       \n",
    "            \n",
    "B19013D_001\n",
    "MEDIAN HOUSEHOLD INCOME IN THE PAST 12 MONTHS (IN 2015 INFLATION-ADJUSTED DOLLARS) (ASIAN ALONE HOUSEHOLDER) for Households With A Householder Who Is Asian Alone%Median household income in the past 12 months (in 2015 Inflation-adjusted dollars)      \n",
    "         \n",
    "       \n",
    "B19013I_001\n",
    "MEDIAN HOUSEHOLD INCOME IN THE PAST 12 MONTHS (IN 2015 INFLATION-ADJUSTED DOLLARS) (HISPANIC OR LATINO HOUSEHOLDER) for Households With A Householder Who Is Hispanic Or Latino%Median household income in the past 12 months (in 2015 Inflation-adjusted dollars)"
   ]
  },
  {
   "cell_type": "code",
   "execution_count": null,
   "metadata": {},
   "outputs": [],
   "source": [
    "cols = '`StateFIPS`, `CountyFIPS`,'\\\n",
    "       '`B19013_001`, `B19013A_001`, `B19013B_001`, `B19013C_001`, `B19013D_001`,'\\\n",
    "       '`B19013I_001`'\n",
    "\n",
    "start = time.time()\n",
    "\n",
    "for i, state in enumerate(tables):\n",
    "    if i == 0:\n",
    "        incomedf = ddw.query('uscensusbureau/acs-2015-5-e-income',\n",
    "                  '''SELECT %s FROM `AK`\n",
    "                     WHERE SummaryLevel=50''' % cols).dataframe \n",
    "    else:\n",
    "        df = ddw.query('uscensusbureau/acs-2015-5-e-income',\n",
    "                       '''SELECT %s FROM `%s`\n",
    "                          WHERE SummaryLevel=50''' % (cols, state.upper())).dataframe\n",
    "        incomedf = pd.concat([incomedf, df], ignore_index=True)\n",
    "\n",
    "        end = time.time()\n",
    "\n",
    "print(end - start)\n",
    "\n",
    "incomedf['StateFIPS'] = incomedf.StateFIPS.astype(np.object_)\\\n",
    "                                .apply(lambda x: str(x))\\\n",
    "                                .str.pad(2, 'left', '0')\n",
    "incomedf['CountyFIPS'] = incomedf.CountyFIPS.astype(np.object_)\\\n",
    "                                 .apply(lambda x: str(x))\\\n",
    "                                 .str.pad(3, 'left', '0')\n",
    "\n",
    "incomedf.rename(columns={'B19013_001':'Med_Income', 'B19013A_001':'Med_Income_White', \n",
    "                         'B19013B_001':'Med_Income_Black', 'B19013C_001':'Med_Income_Nat_Am',\n",
    "                         'B19013D_001':'Med_Income_Asian', 'B19013I_001':'Hispanic'}, inplace=True)"
   ]
  },
  {
   "cell_type": "markdown",
   "metadata": {},
   "source": [
    "#### C. Health Insurance Data"
   ]
  },
  {
   "cell_type": "markdown",
   "metadata": {},
   "source": [
    "B27001_004\n",
    "HEALTH INSURANCE COVERAGE STATUS BY SEX BY AGE for Civilian Noninstitutionalized Population% Male:% Under 6 years            \n",
    "B27001_005\n",
    "HEALTH INSURANCE COVERAGE STATUS BY SEX BY AGE for Civilian Noninstitutionalized Population% Male:% Under 6 years:% With health insurance coverage       \n",
    "B27001_007\n",
    "HEALTH INSURANCE COVERAGE STATUS BY SEX BY AGE for Civilian Noninstitutionalized Population% Male:% 6 to 17 years:% With health insurance coverage            \n",
    "B27001_008\n",
    "HEALTH INSURANCE COVERAGE STATUS BY SEX BY AGE for Civilian Noninstitutionalized Population% Male:% 6 to 17 years:% No health insurance coverage               \n",
    "B27001_010\n",
    "HEALTH INSURANCE COVERAGE STATUS BY SEX BY AGE for Civilian Noninstitutionalized Population% Male:% 18 to 24 years:% With health insurance coverage          \n",
    "B27001_011\n",
    "HEALTH INSURANCE COVERAGE STATUS BY SEX BY AGE for Civilian Noninstitutionalized Population% Male:% 18 to 24 years:% No health insurance coverage            \n",
    "B27001_013\n",
    "HEALTH INSURANCE COVERAGE STATUS BY SEX BY AGE for Civilian Noninstitutionalized Population% Male:% 25 to 34 years:% With health insurance coverage             \n",
    "B27001_014\n",
    "HEALTH INSURANCE COVERAGE STATUS BY SEX BY AGE for Civilian Noninstitutionalized Population% Male:% 25 to 34 years:% No health insurance coverage             \n",
    "B27001_016\n",
    "HEALTH INSURANCE COVERAGE STATUS BY SEX BY AGE for Civilian Noninstitutionalized Population% Male:% 35 to 44 years:% With health insurance coverage          \n",
    "B27001_017\n",
    "HEALTH INSURANCE COVERAGE STATUS BY SEX BY AGE for Civilian Noninstitutionalized Population% Male:% 35 to 44 years:% No health insurance coverage              \n",
    "B27001_019\n",
    "HEALTH INSURANCE COVERAGE STATUS BY SEX BY AGE for Civilian Noninstitutionalized Population% Male:% 45 to 54 years:% With health insurance coverage        \n",
    "B27001_020\n",
    "HEALTH INSURANCE COVERAGE STATUS BY SEX BY AGE for Civilian Noninstitutionalized Population% Male:% 45 to 54 years:% No health insurance coverage          \n",
    "B27001_022\n",
    "HEALTH INSURANCE COVERAGE STATUS BY SEX BY AGE for Civilian Noninstitutionalized Population% Male:% 55 to 64 years:% With health insurance coverage            \n",
    "B27001_023\n",
    "HEALTH INSURANCE COVERAGE STATUS BY SEX BY AGE for Civilian Noninstitutionalized Population% Male:% 55 to 64 years:% No health insurance coverage           \n",
    "B27001_025\n",
    "HEALTH INSURANCE COVERAGE STATUS BY SEX BY AGE for Civilian Noninstitutionalized Population% Male:% 65 to 74 years:% With health insurance coverage              \n",
    "B27001_026\n",
    "HEALTH INSURANCE COVERAGE STATUS BY SEX BY AGE for Civilian Noninstitutionalized Population% Male:% 65 to 74 years:% No health insurance coverage             \n",
    "B27001_028\n",
    "HEALTH INSURANCE COVERAGE STATUS BY SEX BY AGE for Civilian Noninstitutionalized Population% Male:% 75 years and over:% With health insurance coverage            \n",
    "B27001_029\n",
    "HEALTH INSURANCE COVERAGE STATUS BY SEX BY AGE for Civilian Noninstitutionalized Population% Male:% 75 years and over:% No health insurance coverage               \n",
    "B27001_032\n",
    "HEALTH INSURANCE COVERAGE STATUS BY SEX BY AGE for Civilian Noninstitutionalized Population% Female:% Under 6 years:                 \n",
    "B27001_033\n",
    "HEALTH INSURANCE COVERAGE STATUS BY SEX BY AGE for Civilian Noninstitutionalized Population% Female:% Under 6 years:% With health insurance coverage       \n",
    "B27001_035\n",
    "HEALTH INSURANCE COVERAGE STATUS BY SEX BY AGE for Civilian Noninstitutionalized Population% Female:% 6 to 17 years:% With health insurance coverage         \n",
    "B27001_036\n",
    "HEALTH INSURANCE COVERAGE STATUS BY SEX BY AGE for Civilian Noninstitutionalized Population% Female:% 6 to 17 years:% No health insurance coverage            \n",
    "B27001_038\n",
    "HEALTH INSURANCE COVERAGE STATUS BY SEX BY AGE for Civilian Noninstitutionalized Population% Female:% 18 to 24 years:% With health insurance coverage               \n",
    "B27001_039\n",
    "HEALTH INSURANCE COVERAGE STATUS BY SEX BY AGE for Civilian Noninstitutionalized Population% Female:% 18 to 24 years:% No health insurance coverage              \n",
    "B27001_041\n",
    "HEALTH INSURANCE COVERAGE STATUS BY SEX BY AGE for Civilian Noninstitutionalized Population% Female:% 25 to 34 years:% With health insurance coverage            \n",
    "B27001_042\n",
    "HEALTH INSURANCE COVERAGE STATUS BY SEX BY AGE for Civilian Noninstitutionalized Population% Female:% 25 to 34 years:% No health insurance coverage          \n",
    "B27001_044\n",
    "HEALTH INSURANCE COVERAGE STATUS BY SEX BY AGE for Civilian Noninstitutionalized Population% Female:% 35 to 44 years:% With health insurance coverage          \n",
    "B27001_045\n",
    "HEALTH INSURANCE COVERAGE STATUS BY SEX BY AGE for Civilian Noninstitutionalized Population% Female:% 35 to 44 years:% No health insurance coverage          \n",
    "B27001_047\n",
    "HEALTH INSURANCE COVERAGE STATUS BY SEX BY AGE for Civilian Noninstitutionalized Population% Female:% 45 to 54 years:% With health insurance coverage             \n",
    "B27001_048\n",
    "HEALTH INSURANCE COVERAGE STATUS BY SEX BY AGE for Civilian Noninstitutionalized Population% Female:% 45 to 54 years:% No health insurance coverage           \n",
    "B27001_050\n",
    "HEALTH INSURANCE COVERAGE STATUS BY SEX BY AGE for Civilian Noninstitutionalized Population% Female:% 55 to 64 years:% With health insurance coverage          \n",
    "B27001_051\n",
    "HEALTH INSURANCE COVERAGE STATUS BY SEX BY AGE for Civilian Noninstitutionalized Population% Female:% 55 to 64 years:% No health insurance coverage           \n",
    "B27001_053\n",
    "HEALTH INSURANCE COVERAGE STATUS BY SEX BY AGE for Civilian Noninstitutionalized Population% Female:% 65 to 74 years:% With health insurance coverage            \n",
    "B27001_054\n",
    "HEALTH INSURANCE COVERAGE STATUS BY SEX BY AGE for Civilian Noninstitutionalized Population% Female:% 65 to 74 years:% No health insurance coverage              \n",
    "B27001_056\n",
    "HEALTH INSURANCE COVERAGE STATUS BY SEX BY AGE for Civilian Noninstitutionalized Population% Female:% 75 years and over:% With health insurance coverage          \n",
    "B27001_057\n",
    "HEALTH INSURANCE COVERAGE STATUS BY SEX BY AGE for Civilian Noninstitutionalized Population% Female:% 75 years and over:% No health insurance coverage           "
   ]
  },
  {
   "cell_type": "code",
   "execution_count": null,
   "metadata": {},
   "outputs": [],
   "source": [
    "cols = '`StateFIPS`, `CountyFIPS`,'\\\n",
    "       '`B27001_004`, `B27001_005`, `B27001_007`, `B27001_008`,'\\\n",
    "       '`B27001_010`, `B27001_011`, `B27001_013`, `B27001_014`,'\\\n",
    "       '`B27001_016`, `B27001_017`, `B27001_019`, `B27001_020`,'\\\n",
    "       '`B27001_022`, `B27001_023`, `B27001_025`, `B27001_026`,'\\\n",
    "       '`B27001_028`, `B27001_029`, `B27001_032`, `B27001_033`,'\\\n",
    "       '`B27001_035`, `B27001_036`, `B27001_038`, `B27001_039`,'\\\n",
    "       '`B27001_041`, `B27001_042`, `B27001_044`, `B27001_045`,'\\\n",
    "       '`B27001_047`, `B27001_048`, `B27001_050`, `B27001_051`,'\\\n",
    "       '`B27001_053`, `B27001_054`, `B27001_056`, `B27001_057`'\n",
    "# male <= 029   \n",
    "\n",
    "start = time.time()\n",
    "\n",
    "for i, state in enumerate(tables):\n",
    "    if i == 0:\n",
    "        hinsdf = ddw.query('uscensusbureau/acs-2015-5-e-healthinsurance',\n",
    "                  '''SELECT %s FROM `AK`\n",
    "                     WHERE SummaryLevel=50''' % cols).dataframe \n",
    "   \n",
    "    else:\n",
    "        df = ddw.query('uscensusbureau/acs-2015-5-e-healthinsurance',\n",
    "                       '''SELECT %s FROM `%s`\n",
    "                          WHERE SummaryLevel=50''' % (cols, state.upper())).dataframe\n",
    "        hinsdf = pd.concat([hinsdf, df], ignore_index=True)\n",
    "\n",
    "end = time.time()\n",
    "print(end - start)\n",
    "\n",
    "hinsdf['StateFIPS'] = hinsdf.StateFIPS.astype(np.object_)\\\n",
    "                                      .apply(lambda x: str(x))\\\n",
    "                                      .str.pad(2, 'left', '0')\n",
    "hinsdf['CountyFIPS'] = hinsdf.CountyFIPS.astype(np.object_)\\\n",
    "                                        .apply(lambda x: str(x))\\\n",
    "                                        .str.pad(3, 'left', '0')"
   ]
  },
  {
   "cell_type": "code",
   "execution_count": null,
   "metadata": {},
   "outputs": [],
   "source": [
    "# columns representing males' health insurance statistics\n",
    "males = ['`B27001_004`', '`B27001_005`', '`B27001_007`', '`B27001_008`',\n",
    "           '`B27001_010`', '`B27001_011`', '`B27001_013`', '`B27001_014`',\n",
    "           '`B27001_016`', '`B27001_017`', '`B27001_019`', '`B27001_020`',\n",
    "           '`B27001_022`', '`B27001_023`', '`B27001_025`', '`B27001_026`',\n",
    "           '`B27001_028`', '`B27001_029`']\n",
    "\n",
    "# females' health insurance statistics\n",
    "females = ['`B27001_032`', '`B27001_033`', '`B27001_035`', '`B27001_036`', \n",
    "           '`B27001_038`', '`B27001_039`', '`B27001_041`', '`B27001_042`', \n",
    "           '`B27001_044`', '`B27001_045`', '`B27001_047`', '`B27001_048`', \n",
    "           '`B27001_050`', '`B27001_051`', '`B27001_053`', '`B27001_054`', \n",
    "           '`B27001_056`', '`B27001_057`']\n",
    "\n",
    "# separate the \"with\" and \"without\" health insurance columns\n",
    "males_with = []\n",
    "males_without = []\n",
    "females_with = []\n",
    "females_without = []\n",
    "\n",
    "# strip the backticks\n",
    "for i, j in enumerate(males):\n",
    "    if i % 2 == 0:\n",
    "        males_with.append(j.replace('`', ''))\n",
    "    else:\n",
    "        males_without.append(j.replace('`', ''))\n",
    "        \n",
    "for i, j in enumerate(females):\n",
    "    if i % 2 == 0:\n",
    "        females_with.append(j.replace('`', ''))\n",
    "    else:\n",
    "        females_without.append(j.replace('`', ''))\n",
    "\n",
    "# Create features that sum all the individual age group\n",
    "clist = [males_with, males_without, females_with, females_without]\n",
    "newcols = ['M_With', 'M_Without', 'F_With', 'F_Without'] \n",
    "\n",
    "for col in newcols:\n",
    "    hinsdf[col] = 0\n",
    "\n",
    "for i in males_with:\n",
    "    hinsdf['M_With'] += hinsdf[i]  \n",
    "for i in males_without:\n",
    "    hinsdf['M_Without'] += hinsdf[i]\n",
    "for i in females_with:\n",
    "    hinsdf['F_With'] += hinsdf[i]\n",
    "for i in females_without:\n",
    "    hinsdf['F_Without'] += hinsdf[i]\n",
    "\n",
    "hinsdf['All_With'] = hinsdf.M_With + hinsdf.F_With\n",
    "hinsdf['All_Without'] = hinsdf.M_Without + hinsdf.F_Without\n",
    "\n",
    "# Remove all the individual age group variables\n",
    "# but, save them as a df called hinsdf_extra (just in case)\n",
    "hinsdf_extra = df.loc[:, df.columns[df.columns.str.contains('B27001')].values]\n",
    "hinsdf.drop(df.columns[df.columns.str.contains('B27001')].values, axis=1, inplace=True)"
   ]
  },
  {
   "cell_type": "markdown",
   "metadata": {},
   "source": [
    "### Merge DataFrames    "
   ]
  },
  {
   "cell_type": "code",
   "execution_count": null,
   "metadata": {},
   "outputs": [],
   "source": [
    "dfs = [povdf, incomedf, hinsdf, incddf, mortdf]"
   ]
  },
  {
   "cell_type": "code",
   "execution_count": null,
   "metadata": {},
   "outputs": [],
   "source": [
    "# create FIPS features\n",
    "for df in [povdf, incomedf, hinsdf]:\n",
    "    df['FIPS'] = df.StateFIPS + df.CountyFIPS\n",
    "    df.drop(['StateFIPS', 'CountyFIPS'], axis=1, inplace=True)"
   ]
  },
  {
   "cell_type": "code",
   "execution_count": null,
   "metadata": {},
   "outputs": [],
   "source": [
    "# use the pandas isin() method to see the intersections of FIPS features\n",
    "# across dataframes\n",
    "[[i, ii, sum(pd.Series(j.FIPS.unique()).isin(dfs[ii].FIPS))] \n",
    "    for i, j in enumerate(dfs) for ii in range(len(dfs))]"
   ]
  },
  {
   "cell_type": "code",
   "execution_count": null,
   "metadata": {},
   "outputs": [],
   "source": [
    "# look at the number of unique FIPS values per dataframe\n",
    "for i in dfs:\n",
    "    print(len(i.FIPS.unique()))"
   ]
  },
  {
   "cell_type": "code",
   "execution_count": null,
   "metadata": {},
   "outputs": [],
   "source": [
    "# check to see if all the FIPS values are 5 digits in length\n",
    "dfs = [povdf, incomedf, hinsdf, incddf, mortdf] # our 5 dataframes to merge\n",
    "for i, j in enumerate(dfs):\n",
    "    lens = []\n",
    "    for fips in j.FIPS.values:\n",
    "        lens.append(len(fips))\n",
    "    print(pd.Series(lens).value_counts(), '\\n', '-'*10)    "
   ]
  },
  {
   "cell_type": "code",
   "execution_count": null,
   "metadata": {},
   "outputs": [],
   "source": [
    "for i, j in enumerate(dfs):\n",
    "    if i == 0:\n",
    "        fulldf = j.copy()\n",
    "    else:\n",
    "        fulldf = fulldf.merge(j, how='inner', on='FIPS')"
   ]
  },
  {
   "cell_type": "markdown",
   "metadata": {},
   "source": [
    "# 2. Exploratory Analysis (and continued data cleaning)"
   ]
  },
  {
   "cell_type": "code",
   "execution_count": null,
   "metadata": {},
   "outputs": [],
   "source": [
    "fulldf.shape"
   ]
  },
  {
   "cell_type": "code",
   "execution_count": null,
   "metadata": {},
   "outputs": [],
   "source": [
    "fulldf.head()"
   ]
  },
  {
   "cell_type": "code",
   "execution_count": null,
   "metadata": {},
   "outputs": [],
   "source": [
    "# check for null values\n",
    "for col in fulldf.columns:\n",
    "    print((col, sum(fulldf[col].isnull())))"
   ]
  },
  {
   "cell_type": "code",
   "execution_count": null,
   "metadata": {},
   "outputs": [],
   "source": [
    "fulldf.drop(['Med_Income_White', 'Med_Income_Black', 'Med_Income_Nat_Am',\n",
    "             'Med_Income_Asian', 'Hispanic'], axis=1, inplace=True)"
   ]
  },
  {
   "cell_type": "code",
   "execution_count": null,
   "metadata": {},
   "outputs": [],
   "source": [
    "data_dict = pd.DataFrame(fulldf.columns.values, index=range(len(fulldf.columns)), columns=['Feature'])\n",
    "\n",
    "data_dict['Definition'] = ['','','Both male and female reported below poverty line (Raw)', \n",
    "                           'Males below poverty (Raw)', 'Females below poverty (Raw)', 'State + County FIPS (Raw)',\n",
    "                           'Med_Income all enthnicities (Raw)', 'Males with health insurance (Raw)',\n",
    "                           'Males without health insurance (Raw)', 'Females with health insurance (Raw)',\n",
    "                           'Females without health insurance (Raw)', 'Males and Femaes with health ins. (Raw)',\n",
    "                           'Males an Females without health ins (Raw)', 'Lung cancer incidence rate (per 100,000)',\n",
    "                           'Average lung cancer incidence rate (Raw)', 'Recent trend (incidence)', \n",
    "                           'Lung cancer mortality rate (per 100,000)', 'Average lung cancer mortalities (Raw)']\n",
    "\n",
    "data_dict['Notes'] = ''\n",
    "data_dict.loc[[13,16], 'Notes'] = \"'*' = fewer that 16 reported cases\"\n",
    "\n",
    "data_dict"
   ]
  },
  {
   "cell_type": "code",
   "execution_count": null,
   "metadata": {},
   "outputs": [],
   "source": [
    "def get_types(col_name):\n",
    "    ts = (pd.Series([type(i) for i in fulldf[col_name]]).value_counts())\n",
    "    print(\"%s\\n\" % feature, ts, \"\\n\", \"-\"*30)\n",
    "\n",
    "for feature in fulldf.columns:\n",
    "    get_types(feature)"
   ]
  },
  {
   "cell_type": "markdown",
   "metadata": {},
   "source": [
    "### Columns that seem to need to be fixed: Med_Income, Incidence_Rate, Avg_Ann_Incidence, Mortality_Rate, Avg_Ann_Deaths"
   ]
  },
  {
   "cell_type": "code",
   "execution_count": null,
   "metadata": {},
   "outputs": [],
   "source": [
    "# Mortality_Rate\n",
    "# This script isolates values that fail to convert to numeric\n",
    "def f(column):\n",
    "    types = []\n",
    "    for _, j in enumerate(column):\n",
    "        try:\n",
    "            pd.to_numeric(j)\n",
    "            \n",
    "        except:\n",
    "            types.append(j)\n",
    "    print(pd.Series(types).value_counts())\n",
    "\n",
    "f(fulldf.Mortality_Rate)\n"
   ]
  },
  {
   "cell_type": "code",
   "execution_count": null,
   "metadata": {},
   "outputs": [],
   "source": [
    "# which states are associated with the \"*\"s?\n",
    "fulldf.loc[fulldf.Incidence_Rate=='*', 'State'].value_counts()"
   ]
  },
  {
   "cell_type": "code",
   "execution_count": null,
   "metadata": {},
   "outputs": [],
   "source": [
    "# Histogram to see how exceptional a low rate of mortality is\n",
    "mhist = pd.to_numeric(fulldf.Mortality_Rate[fulldf.Mortality_Rate != '*'])\n",
    "print(\"min\", mhist.min(), \"max\", mhist.max())\n",
    "mhist.hist(figsize={14,7}, bins=20);"
   ]
  },
  {
   "cell_type": "code",
   "execution_count": null,
   "metadata": {},
   "outputs": [],
   "source": [
    "populationdf = ddw.query('nrippner/us-population-estimates-2015',\n",
    "                         '''SELECT `POPESTIMATE2015`, `STATE`, `COUNTY`\n",
    "                            FROM `CO-EST2015-alldata`''').dataframe"
   ]
  },
  {
   "cell_type": "code",
   "execution_count": null,
   "metadata": {},
   "outputs": [],
   "source": [
    "populationdf.shape"
   ]
  },
  {
   "cell_type": "code",
   "execution_count": null,
   "metadata": {},
   "outputs": [],
   "source": [
    "populationdf.head()"
   ]
  },
  {
   "cell_type": "code",
   "execution_count": null,
   "metadata": {},
   "outputs": [],
   "source": [
    "state = populationdf.STATE.apply(lambda x: str(x))\\\n",
    "                          .str.pad(2, 'left', '0')\n",
    "county = populationdf.COUNTY.apply(lambda x: str(x))\\\n",
    "                            .str.pad(3, 'left', '0')\n",
    "\n",
    "populationdf['FIPS'] = state + county\n",
    "\n",
    "populationdf.head()"
   ]
  },
  {
   "cell_type": "code",
   "execution_count": null,
   "metadata": {},
   "outputs": [],
   "source": [
    "# first, let's check to see that the FIPS columns match up properly\n",
    "print(sum(pd.Series(populationdf.FIPS.unique()).isin(fulldf.FIPS)), 'matches out of')\n",
    "print(\"%d unique values\" % len(populationdf.FIPS.unique()))"
   ]
  },
  {
   "cell_type": "code",
   "execution_count": null,
   "metadata": {},
   "outputs": [],
   "source": [
    "print(sum(pd.Series(fulldf.FIPS.unique()).isin(populationdf.FIPS)), 'matches out of')\n",
    "print(\"%d unique values\" % len(fulldf.FIPS.unique()))"
   ]
  },
  {
   "cell_type": "code",
   "execution_count": null,
   "metadata": {},
   "outputs": [],
   "source": [
    "fulldf = fulldf.merge(populationdf[['FIPS', 'POPESTIMATE2015']], on='FIPS', how='inner')"
   ]
  },
  {
   "cell_type": "code",
   "execution_count": null,
   "metadata": {},
   "outputs": [],
   "source": [
    "# Find median as reference point\n",
    "fulldf.POPESTIMATE2015.median()\n",
    "print(\"median, mean population:         %.1f, %.1f\" % (fulldf.POPESTIMATE2015.median(),\n",
    "                                         fulldf.POPESTIMATE2015.mean()))\n",
    "print(\"median, mean population '*':      %.1f,   %.1f\" % (fulldf.POPESTIMATE2015[fulldf.Mortality_Rate == '*'].median(),\n",
    "                                            fulldf.POPESTIMATE2015[fulldf.Mortality_Rate == '*'].mean()))\n",
    "print(\"median, mean population not '*': %.1f, %.1f\" % (fulldf.POPESTIMATE2015[fulldf.Mortality_Rate != '*'].median(),\n",
    "                                                fulldf.POPESTIMATE2015[fulldf.Mortality_Rate != '*'].mean()))"
   ]
  },
  {
   "cell_type": "code",
   "execution_count": null,
   "metadata": {},
   "outputs": [],
   "source": [
    "fulldf.POPESTIMATE2015[fulldf.Mortality_Rate == '*'].hist(figsize=(8,3), bins=30);"
   ]
  },
  {
   "cell_type": "code",
   "execution_count": null,
   "metadata": {},
   "outputs": [],
   "source": [
    "population_levels = [0, 1000, 5000, 10000, 15000, 20000, 50000, 100000, 500000, 10**6]\n",
    "for i in range(1,len(population_levels)):\n",
    "    print(\"population:\", \"%d-%d\" % (population_levels[i-1], population_levels[i]),\"median mort. rate:\",\n",
    "                                    fulldf.Mortality_Rate[(fulldf.Mortality_Rate != '*') &\n",
    "                                                          (population_levels[i-1] < fulldf.POPESTIMATE2015) &\n",
    "                                                          (fulldf.POPESTIMATE2015 < population_levels[i])].median())"
   ]
  },
  {
   "cell_type": "code",
   "execution_count": null,
   "metadata": {},
   "outputs": [],
   "source": [
    "print(\"Not '*'\")\n",
    "for i in range(1, len(population_levels)):\n",
    "    print(\"# records between\",\"%d-%d population\" % (population_levels[i-1], population_levels[i]), \n",
    "                                      fulldf[(fulldf.Mortality_Rate != '*') &\n",
    "                                             (fulldf.POPESTIMATE2015 <= population_levels[i]) &\n",
    "                                             (fulldf.POPESTIMATE2015 > population_levels[i-1])].shape[0]) \n"
   ]
  },
  {
   "cell_type": "code",
   "execution_count": null,
   "metadata": {},
   "outputs": [],
   "source": [
    "# a closer look at number of records for very low-population counties (< 5000)\n",
    "print(\"not '*'\")\n",
    "population_levels = [2500, 3000, 3500, 4000, 4500, 5000]\n",
    "\n",
    "for i in range(1, len(population_levels)):\n",
    "    print(\"# records between\",\"%d-%d population\" % (population_levels[i-1], population_levels[i]), \n",
    "                                      fulldf[(fulldf.Mortality_Rate != '*') &\n",
    "                                             (fulldf.POPESTIMATE2015 <= population_levels[i]) &\n",
    "                                             (fulldf.POPESTIMATE2015 > population_levels[i-1])].shape[0]) \n",
    "\n",
    "print(\"'*'\") \n",
    "for i in range(1, len(population_levels)):\n",
    "    print(\"# records between\",\"%d-%d population\" % (population_levels[i-1], population_levels[i]), \n",
    "                                      fulldf[(fulldf.Mortality_Rate == '*') &\n",
    "                                             (fulldf.POPESTIMATE2015 <= population_levels[i]) &\n",
    "                                             (fulldf.POPESTIMATE2015 > population_levels[i-1])].shape[0]) "
   ]
  },
  {
   "cell_type": "code",
   "execution_count": null,
   "metadata": {},
   "outputs": [],
   "source": [
    "fulldf = fulldf[fulldf.Mortality_Rate != '*']"
   ]
  },
  {
   "cell_type": "markdown",
   "metadata": {},
   "source": [
    "### Clean up Med_Income, Incidence_Rate, Avg_Ann_Incidence, and Avg_Ann_Deaths"
   ]
  },
  {
   "cell_type": "code",
   "execution_count": null,
   "metadata": {},
   "outputs": [],
   "source": [
    "# Med_Income\n",
    "fulldf['Med_Income'] = pd.to_numeric(fulldf.Med_Income)  # That was easy!"
   ]
  },
  {
   "cell_type": "code",
   "execution_count": null,
   "metadata": {},
   "outputs": [],
   "source": [
    "# Incidence_Rate\n",
    "# Let's use this script to see which values fail to convert to numeric:\n",
    "values = []\n",
    "for _, j in enumerate(fulldf.Incidence_Rate):\n",
    "    try:\n",
    "        pd.to_numeric(j)\n",
    "    except:\n",
    "        values.append(j)\n",
    "        \n",
    "pd.Series(values).value_counts()[:10]"
   ]
  },
  {
   "cell_type": "code",
   "execution_count": null,
   "metadata": {},
   "outputs": [],
   "source": [
    "# create dummy variables for \"Recent Trend\"\n",
    "\n",
    "# rename 'Recent Trend' to remove the space\n",
    "fulldf.rename(columns={'Recent Trend':'RecentTrend'}, inplace=True)\n",
    "\n",
    "# change all the missing values to the mode ('stable')\n",
    "fulldf.replace({'RecentTrend' : {'*':'stable'}}, inplace=True)\n",
    "\n",
    "# function to do boolean check and return 1 or 0\n",
    "def f(x, term):\n",
    "    if x == term:\n",
    "        return 1\n",
    "    else:\n",
    "        return 0\n",
    "\n",
    "# create new features using the apply method with the 'f' function we defined above\n",
    "fulldf['Rising'] = fulldf.RecentTrend.apply(lambda x: f(x, term='rising'))\n",
    "fulldf['Falling'] = fulldf.RecentTrend.apply(lambda x: f(x, term='falling'))\n",
    "\n",
    "# Note that of the 3 levels of RecentTrend, we only created dummies for rising and falling\n",
    "# We will be incuding constant in our model (dummy variable trap)"
   ]
  },
  {
   "cell_type": "code",
   "execution_count": null,
   "metadata": {},
   "outputs": [],
   "source": [
    "fulldf['RecentTrend'].value_counts()"
   ]
  },
  {
   "cell_type": "code",
   "execution_count": null,
   "metadata": {},
   "outputs": [],
   "source": [
    "y = pd.to_numeric(fulldf.Mortality_Rate).values\n",
    "X = fulldf.loc[:,['All_Poverty', 'M_Poverty', 'F_Poverty', 'Med_Income',\n",
    "            'M_With', 'M_Without', 'F_With', 'F_Without', 'All_With',\n",
    "            'All_Without', 'Incidence_Rate', 'Falling', 'Rising',\n",
    "            'POPESTIMATE2015']]"
   ]
  },
  {
   "cell_type": "code",
   "execution_count": null,
   "metadata": {},
   "outputs": [],
   "source": [
    "X.head()"
   ]
  },
  {
   "cell_type": "code",
   "execution_count": null,
   "metadata": {},
   "outputs": [],
   "source": [
    "X['Incidence_Rate'] = pd.to_numeric(X.Incidence_Rate, errors='coerce')"
   ]
  },
  {
   "cell_type": "code",
   "execution_count": null,
   "metadata": {},
   "outputs": [],
   "source": [
    "X['Incidence_Rate'] = X.Incidence_Rate.fillna(X.Incidence_Rate.median())\n",
    "print(sum(X.Incidence_Rate.isnull()))"
   ]
  },
  {
   "cell_type": "code",
   "execution_count": null,
   "metadata": {},
   "outputs": [],
   "source": [
    "for col in ['All_Poverty', 'M_Poverty', 'F_Poverty', 'M_With',\n",
    "            'M_Without', 'F_With', 'F_Without', 'All_With', 'All_Without']:\n",
    "       \n",
    "    X[col + \"_PC\"] = X[col] / X.POPESTIMATE2015 * 10**5"
   ]
  },
  {
   "cell_type": "code",
   "execution_count": null,
   "metadata": {},
   "outputs": [],
   "source": [
    "X.head()"
   ]
  },
  {
   "cell_type": "markdown",
   "metadata": {},
   "source": [
    "## Visual Exploratory Analysis"
   ]
  },
  {
   "cell_type": "code",
   "execution_count": null,
   "metadata": {},
   "outputs": [],
   "source": [
    "# scatterplots (hat tip Sebastian Raschka from his book \"Python Machine Learning\")\n",
    "sns.set(style='whitegrid', context='notebook')\n",
    "sns.pairplot(X[['All_Poverty_PC', 'M_Poverty_PC', 'F_Poverty_PC', 'Med_Income']], size=2)\n",
    "plt.show()"
   ]
  },
  {
   "cell_type": "code",
   "execution_count": null,
   "metadata": {},
   "outputs": [],
   "source": [
    "cols = ['All_Poverty_PC', 'M_Poverty_PC', 'F_Poverty_PC', 'Med_Income']\n",
    "cm = np.corrcoef(X[['All_Poverty_PC', 'M_Poverty_PC', 'F_Poverty_PC', 'Med_Income']].values.T)\n",
    "sns.set(font_scale=1.5)\n",
    "hm = sns.heatmap(cm, cbar=True, annot=True, square=True, fmt='.2f', annot_kws={'size':15},\n",
    "                 yticklabels=cols, xticklabels=cols)\n",
    "plt.show()"
   ]
  },
  {
   "cell_type": "code",
   "execution_count": null,
   "metadata": {},
   "outputs": [],
   "source": [
    "X.drop(['M_Poverty_PC', 'F_Poverty_PC'], axis=1, inplace=True)"
   ]
  },
  {
   "cell_type": "code",
   "execution_count": null,
   "metadata": {},
   "outputs": [],
   "source": [
    "X.drop(['M_With_PC', 'F_With_PC'], axis=1, inplace=True)\n",
    "X.drop(['M_Without_PC', 'F_Without_PC'], axis=1, inplace=True)\n",
    "X.head()"
   ]
  },
  {
   "cell_type": "code",
   "execution_count": null,
   "metadata": {},
   "outputs": [],
   "source": [
    "cols = ['All_Poverty_PC', 'Med_Income', 'All_With_PC', 'All_Without_PC',\n",
    "                'Incidence_Rate', 'POPESTIMATE2015']\n",
    "sns.set(style='whitegrid', context='notebook')\n",
    "sns.pairplot(X[cols], size=2)\n",
    "plt.show()"
   ]
  },
  {
   "cell_type": "code",
   "execution_count": null,
   "metadata": {},
   "outputs": [],
   "source": [
    "cm = np.corrcoef(X[cols].values.T)\n",
    "sns.set(font_scale=1.5)\n",
    "hm = sns.heatmap(cm, cbar=True, annot=True, square=True, fmt='.2f', annot_kws={'size':15},\n",
    "                 yticklabels=cols, xticklabels=cols)\n",
    "plt.show()"
   ]
  },
  {
   "cell_type": "markdown",
   "metadata": {},
   "source": [
    "# 3. Linear Regression Model"
   ]
  },
  {
   "cell_type": "code",
   "execution_count": null,
   "metadata": {},
   "outputs": [],
   "source": [
    "cols = ['All_Poverty_PC', 'Med_Income', 'All_With_PC',  'All_Without_PC',\n",
    "        'Incidence_Rate', 'POPESTIMATE2015', 'Falling', 'Rising', 'All_Poverty',\n",
    "        'All_With', 'All_Without']"
   ]
  },
  {
   "cell_type": "code",
   "execution_count": null,
   "metadata": {},
   "outputs": [],
   "source": [
    "# add constant (coloumn vector of all 1s)\n",
    "X = X[cols]\n",
    "X['Constant'] = 1\n",
    "X.reset_index(drop=True, inplace=True)"
   ]
  },
  {
   "cell_type": "code",
   "execution_count": null,
   "metadata": {},
   "outputs": [],
   "source": [
    "# Fit linear regression model\n",
    "lr = sm.OLS(y, X, hasconst=True)\n",
    "result = lr.fit()"
   ]
  },
  {
   "cell_type": "code",
   "execution_count": null,
   "metadata": {},
   "outputs": [],
   "source": [
    "result.summary()"
   ]
  },
  {
   "cell_type": "markdown",
   "metadata": {},
   "source": [
    "#### Multicollinearity     "
   ]
  },
  {
   "cell_type": "code",
   "execution_count": null,
   "metadata": {},
   "outputs": [],
   "source": [
    "pd.DataFrame([[var, variance_inflation_factor(X.values, X.columns.get_loc(var))] for var in X.columns],\n",
    "                   index=range(X.shape[1]), columns=['Variable', 'VIF'])\n"
   ]
  },
  {
   "cell_type": "code",
   "execution_count": null,
   "metadata": {},
   "outputs": [],
   "source": [
    "X.columns"
   ]
  },
  {
   "cell_type": "code",
   "execution_count": null,
   "metadata": {},
   "outputs": [],
   "source": [
    "vcols = ['All_Poverty_PC', 'Med_Income', 'All_With_PC', 'All_Without_PC',\n",
    "       'Incidence_Rate', 'Falling', 'Rising', 'Constant']"
   ]
  },
  {
   "cell_type": "code",
   "execution_count": null,
   "metadata": {},
   "outputs": [],
   "source": [
    "Xvcols = X[vcols].reset_index(drop=True)\n",
    "pd.DataFrame([[var, variance_inflation_factor(Xvcols.values, Xvcols.columns.get_loc(var))] for var in vcols],\n",
    "                   index=range(len(vcols)), columns=['Variable', 'VIF'])"
   ]
  },
  {
   "cell_type": "code",
   "execution_count": null,
   "metadata": {},
   "outputs": [],
   "source": [
    "vcols = ['All_Poverty_PC', 'Med_Income', 'All_Without_PC',\n",
    "       'Incidence_Rate', 'Falling', 'POPESTIMATE2015', 'Constant']\n",
    "Xvcols = X[vcols].reset_index(drop=True)\n",
    "lr = sm.OLS(y, Xvcols, hasconst=True)\n",
    "result = lr.fit()"
   ]
  },
  {
   "cell_type": "code",
   "execution_count": null,
   "metadata": {},
   "outputs": [],
   "source": [
    "result.summary()"
   ]
  },
  {
   "cell_type": "markdown",
   "metadata": {},
   "source": [
    "**Are residuals normally distributed?**"
   ]
  },
  {
   "cell_type": "code",
   "execution_count": null,
   "metadata": {},
   "outputs": [],
   "source": [
    "# histogram superimposed by normal curve\n",
    "plt.figure(figsize=(10,6))\n",
    "import scipy.stats as stats\n",
    "mu = np.mean(result.resid)\n",
    "sigma = np.std(result.resid)\n",
    "pdf = stats.norm.pdf(sorted(result.resid), mu, sigma)\n",
    "plt.hist(result.resid, bins=100, normed=True)\n",
    "plt.plot(sorted(result.resid), pdf, color='r', linewidth=2)\n",
    "plt.show()"
   ]
  },
  {
   "cell_type": "code",
   "execution_count": null,
   "metadata": {},
   "outputs": [],
   "source": [
    "# QQplot\n",
    "fig, [ax1, ax2] = plt.subplots(1,2, figsize=(10,3))\n",
    "sm.qqplot(result.resid, stats.t, fit=True, line='45', ax = ax1)\n",
    "ax1.set_title(\"t distribution\")\n",
    "sm.qqplot(result.resid, stats.norm, fit=True, line='45', ax=ax2)\n",
    "ax2.set_title(\"normal distribution\")\n",
    "plt.show()"
   ]
  },
  {
   "cell_type": "markdown",
   "metadata": {},
   "source": [
    "**Heteroscedasticity**   "
   ]
  },
  {
   "cell_type": "code",
   "execution_count": null,
   "metadata": {},
   "outputs": [],
   "source": [
    "# plot predicted vs actual\n",
    "plt.figure(figsize=(14,7))\n",
    "sns.regplot(y, result.fittedvalues, line_kws={'color':'r', 'alpha':0.3, \n",
    "                                              'linestyle':'--', 'linewidth':2}, \n",
    "            scatter_kws={'alpha':0.5})\n",
    "plt.ylim(0,160)\n",
    "plt.xlabel('Actual Values')\n",
    "plt.ylabel('Fitted Values')\n",
    "plt.show()\n",
    "print(\"Pearson R: \", stats.pearsonr(result.fittedvalues, y))"
   ]
  },
  {
   "cell_type": "code",
   "execution_count": null,
   "metadata": {},
   "outputs": [],
   "source": [
    "# plot actual values versus residuals\n",
    "from statsmodels.nonparametric.smoothers_lowess import lowess\n",
    "ys = lowess(result.resid.values, y, frac=0.2)\n",
    "ys = pd.DataFrame(ys, index=range(len(ys)), columns=['a', 'b'])\n",
    "ys = ys.sort_values(by='a')\n",
    "\n",
    "fig, ax = plt.subplots(figsize=(14,9))\n",
    "plt.scatter(y, result.resid, alpha=0.5, s=25)\n",
    "plt.axhline(y=0, color='r', linestyle=\"--\", alpha=0.5)\n",
    "plt.xlabel(\"Actual Values\")\n",
    "plt.ylabel(\"Residuals\")\n",
    "\n",
    "plt.plot(ys.a, ys.b, c='green', linewidth=2, label=\"Lowess\")\n",
    "plt.legend()\n",
    "plt.show()\n",
    "print(\"Pearson R:\", stats.pearsonr(y, result.resid))"
   ]
  },
  {
   "cell_type": "code",
   "execution_count": null,
   "metadata": {},
   "outputs": [],
   "source": [
    "# plot actual values versus residuals\n",
    "plt.figure(figsize=(14,7))\n",
    "plt.scatter(y=result.resid, x=result.fittedvalues, alpha=0.5, s=22)\n",
    "plt.axhline(y=0, color='r', linestyle=\"--\", alpha=0.5)\n",
    "plt.xlabel(\"Fitted Values\")\n",
    "plt.ylabel(\"Residuals\")\n",
    "plt.ylim(-65, 50)\n",
    "plt.show()"
   ]
  }
 ],
 "metadata": {
  "kernelspec": {
   "display_name": "Python 3",
   "language": "python",
   "name": "python3"
  },
  "language_info": {
   "codemirror_mode": {
    "name": "ipython",
    "version": 3
   },
   "file_extension": ".py",
   "mimetype": "text/x-python",
   "name": "python",
   "nbconvert_exporter": "python",
   "pygments_lexer": "ipython3",
   "version": "3.7.6"
  },
  "toc": {
   "colors": {
    "hover_highlight": "#DAA520",
    "navigate_num": "#000000",
    "navigate_text": "#333333",
    "running_highlight": "#FF0000",
    "selected_highlight": "#FFD700",
    "sidebar_border": "#EEEEEE",
    "wrapper_background": "#FFFFFF"
   },
   "moveMenuLeft": true,
   "nav_menu": {
    "height": "435px",
    "width": "252px"
   },
   "navigate_menu": true,
   "number_sections": false,
   "sideBar": true,
   "threshold": 4,
   "toc_cell": true,
   "toc_section_display": "block",
   "toc_window_display": false,
   "widenNotebook": false
  },
  "varInspector": {
   "cols": {
    "lenName": 16,
    "lenType": 16,
    "lenVar": 40
   },
   "kernels_config": {
    "python": {
     "delete_cmd_postfix": "",
     "delete_cmd_prefix": "del ",
     "library": "var_list.py",
     "varRefreshCmd": "print(var_dic_list())"
    },
    "r": {
     "delete_cmd_postfix": ") ",
     "delete_cmd_prefix": "rm(",
     "library": "var_list.r",
     "varRefreshCmd": "cat(var_dic_list()) "
    }
   },
   "position": {
    "height": "688px",
    "left": "654.815px",
    "right": "20px",
    "top": "113.991px",
    "width": "543px"
   },
   "types_to_exclude": [
    "module",
    "function",
    "builtin_function_or_method",
    "instance",
    "_Feature"
   ],
   "window_display": false
  }
 },
 "nbformat": 4,
 "nbformat_minor": 2
}
